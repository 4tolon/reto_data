{
 "cells": [
  {
   "cell_type": "markdown",
   "id": "21d3c40f-5d6c-4d6f-9253-77fafb23614e",
   "metadata": {},
   "source": [
    "# Predicción con modelos de ml"
   ]
  },
  {
   "cell_type": "code",
   "execution_count": 1,
   "id": "6d2b00a2-8450-4a8f-a0bf-bc0ab8aded7f",
   "metadata": {},
   "outputs": [],
   "source": [
    "import pandas as pd\n",
    "from sklearn.model_selection import train_test_split as tts\n",
    "from sklearn.linear_model import LinearRegression as LinReg\n",
    "\n",
    "from sklearn import metrics\n",
    "import numpy as np"
   ]
  },
  {
   "cell_type": "markdown",
   "id": "d3e835d7-61f6-492b-b2b4-af0cca8dd553",
   "metadata": {},
   "source": [
    "## Preparamos los datos"
   ]
  },
  {
   "cell_type": "code",
   "execution_count": 2,
   "id": "ca0660ba-f287-408c-9808-bf9319edda75",
   "metadata": {},
   "outputs": [],
   "source": [
    "df = pd.read_csv(\"datos_limpios.csv\")"
   ]
  },
  {
   "cell_type": "code",
   "execution_count": 3,
   "id": "4a30d7a6-92ec-4c30-b6ad-49801961e5d3",
   "metadata": {},
   "outputs": [],
   "source": [
    "dicc_gas = {'E10':1,'SP98':0}"
   ]
  },
  {
   "cell_type": "code",
   "execution_count": 4,
   "id": "60a80d33-e2ed-450b-833a-ac699dd01952",
   "metadata": {
    "tags": []
   },
   "outputs": [],
   "source": [
    "df['gas_num'] = df.gas_type.map(dicc_gas)"
   ]
  },
  {
   "cell_type": "markdown",
   "id": "711c1c97-fabf-4f4e-b914-77c0d4e90976",
   "metadata": {},
   "source": [
    "### Dividimos el data set en test y train y variable objetivo __CONSUMO__\n"
   ]
  },
  {
   "cell_type": "code",
   "execution_count": 5,
   "id": "c9a72a12-1b55-418f-bd9b-00ff211ebb6a",
   "metadata": {},
   "outputs": [],
   "source": [
    "X = df.drop([\"consume\",\"gas_type\",\"refill gas\"], axis=1)"
   ]
  },
  {
   "cell_type": "code",
   "execution_count": 6,
   "id": "9011043f-0a01-48a2-a921-2d64ea28d7ba",
   "metadata": {},
   "outputs": [
    {
     "data": {
      "text/html": [
       "<div>\n",
       "<style scoped>\n",
       "    .dataframe tbody tr th:only-of-type {\n",
       "        vertical-align: middle;\n",
       "    }\n",
       "\n",
       "    .dataframe tbody tr th {\n",
       "        vertical-align: top;\n",
       "    }\n",
       "\n",
       "    .dataframe thead th {\n",
       "        text-align: right;\n",
       "    }\n",
       "</style>\n",
       "<table border=\"1\" class=\"dataframe\">\n",
       "  <thead>\n",
       "    <tr style=\"text-align: right;\">\n",
       "      <th></th>\n",
       "      <th>distance</th>\n",
       "      <th>speed</th>\n",
       "      <th>temp_inside</th>\n",
       "      <th>temp_outside</th>\n",
       "      <th>AC</th>\n",
       "      <th>rain</th>\n",
       "      <th>sun</th>\n",
       "      <th>refill liters</th>\n",
       "      <th>snow</th>\n",
       "      <th>time</th>\n",
       "      <th>gas_num</th>\n",
       "    </tr>\n",
       "  </thead>\n",
       "  <tbody>\n",
       "    <tr>\n",
       "      <th>0</th>\n",
       "      <td>28.0</td>\n",
       "      <td>26</td>\n",
       "      <td>21.5</td>\n",
       "      <td>12</td>\n",
       "      <td>0</td>\n",
       "      <td>0</td>\n",
       "      <td>0</td>\n",
       "      <td>45.0</td>\n",
       "      <td>0</td>\n",
       "      <td>1.076923</td>\n",
       "      <td>1</td>\n",
       "    </tr>\n",
       "    <tr>\n",
       "      <th>1</th>\n",
       "      <td>12.0</td>\n",
       "      <td>30</td>\n",
       "      <td>21.5</td>\n",
       "      <td>13</td>\n",
       "      <td>0</td>\n",
       "      <td>0</td>\n",
       "      <td>0</td>\n",
       "      <td>0.0</td>\n",
       "      <td>0</td>\n",
       "      <td>0.400000</td>\n",
       "      <td>1</td>\n",
       "    </tr>\n",
       "    <tr>\n",
       "      <th>2</th>\n",
       "      <td>11.2</td>\n",
       "      <td>38</td>\n",
       "      <td>21.5</td>\n",
       "      <td>15</td>\n",
       "      <td>0</td>\n",
       "      <td>0</td>\n",
       "      <td>0</td>\n",
       "      <td>0.0</td>\n",
       "      <td>0</td>\n",
       "      <td>0.294737</td>\n",
       "      <td>1</td>\n",
       "    </tr>\n",
       "    <tr>\n",
       "      <th>3</th>\n",
       "      <td>12.9</td>\n",
       "      <td>36</td>\n",
       "      <td>21.5</td>\n",
       "      <td>14</td>\n",
       "      <td>0</td>\n",
       "      <td>0</td>\n",
       "      <td>0</td>\n",
       "      <td>0.0</td>\n",
       "      <td>0</td>\n",
       "      <td>0.358333</td>\n",
       "      <td>1</td>\n",
       "    </tr>\n",
       "    <tr>\n",
       "      <th>4</th>\n",
       "      <td>18.5</td>\n",
       "      <td>46</td>\n",
       "      <td>21.5</td>\n",
       "      <td>15</td>\n",
       "      <td>0</td>\n",
       "      <td>0</td>\n",
       "      <td>0</td>\n",
       "      <td>0.0</td>\n",
       "      <td>0</td>\n",
       "      <td>0.402174</td>\n",
       "      <td>1</td>\n",
       "    </tr>\n",
       "  </tbody>\n",
       "</table>\n",
       "</div>"
      ],
      "text/plain": [
       "   distance  speed  temp_inside  temp_outside  AC  rain  sun  refill liters  \\\n",
       "0      28.0     26         21.5            12   0     0    0           45.0   \n",
       "1      12.0     30         21.5            13   0     0    0            0.0   \n",
       "2      11.2     38         21.5            15   0     0    0            0.0   \n",
       "3      12.9     36         21.5            14   0     0    0            0.0   \n",
       "4      18.5     46         21.5            15   0     0    0            0.0   \n",
       "\n",
       "   snow      time  gas_num  \n",
       "0     0  1.076923        1  \n",
       "1     0  0.400000        1  \n",
       "2     0  0.294737        1  \n",
       "3     0  0.358333        1  \n",
       "4     0  0.402174        1  "
      ]
     },
     "execution_count": 6,
     "metadata": {},
     "output_type": "execute_result"
    }
   ],
   "source": [
    "X.head()"
   ]
  },
  {
   "cell_type": "code",
   "execution_count": 7,
   "id": "dd95a85d-7be4-413e-a074-f6a4250f8ee1",
   "metadata": {},
   "outputs": [],
   "source": [
    "y = df.consume"
   ]
  },
  {
   "cell_type": "code",
   "execution_count": 8,
   "id": "a99ccf02-3b18-4285-9c46-0f5dfc078db2",
   "metadata": {},
   "outputs": [
    {
     "data": {
      "text/plain": [
       "0    5.0\n",
       "1    4.2\n",
       "2    5.5\n",
       "3    3.9\n",
       "4    4.5\n",
       "Name: consume, dtype: float64"
      ]
     },
     "execution_count": 8,
     "metadata": {},
     "output_type": "execute_result"
    }
   ],
   "source": [
    "y.head()"
   ]
  },
  {
   "cell_type": "code",
   "execution_count": 9,
   "id": "34814c95-9d74-4b05-b769-6c84a0cddf01",
   "metadata": {},
   "outputs": [],
   "source": [
    "X_train, X_test, y_train, y_test = tts(X,y, test_size=0.2)"
   ]
  },
  {
   "cell_type": "markdown",
   "id": "441eedae-b3b0-4e39-bd68-2bb16ba8ba77",
   "metadata": {},
   "source": [
    "### Regresión lineal"
   ]
  },
  {
   "cell_type": "code",
   "execution_count": 10,
   "id": "6c180f1c-3165-4b12-b16f-0673ffe59446",
   "metadata": {},
   "outputs": [],
   "source": [
    "linreg=LinReg()"
   ]
  },
  {
   "cell_type": "code",
   "execution_count": 11,
   "id": "9612ee51-3186-4232-93cb-04451dedce1e",
   "metadata": {},
   "outputs": [
    {
     "data": {
      "text/plain": [
       "LinearRegression()"
      ]
     },
     "execution_count": 11,
     "metadata": {},
     "output_type": "execute_result"
    }
   ],
   "source": [
    "linreg"
   ]
  },
  {
   "cell_type": "code",
   "execution_count": 12,
   "id": "00b081b9-6153-41e0-b77f-b67801103a3a",
   "metadata": {},
   "outputs": [
    {
     "data": {
      "text/plain": [
       "LinearRegression()"
      ]
     },
     "execution_count": 12,
     "metadata": {},
     "output_type": "execute_result"
    }
   ],
   "source": [
    "linreg.fit(X_train, y_train)"
   ]
  },
  {
   "cell_type": "code",
   "execution_count": 13,
   "id": "49520751-f3ee-420b-9773-4af6361ef29e",
   "metadata": {},
   "outputs": [
    {
     "data": {
      "text/plain": [
       "array([ 0.05109789, -0.04603424, -0.06396241, -0.03586475,  0.53038224,\n",
       "        0.56448863, -0.18581565, -0.01334067, -0.18084374, -3.2134378 ,\n",
       "        0.11158914])"
      ]
     },
     "execution_count": 13,
     "metadata": {},
     "output_type": "execute_result"
    }
   ],
   "source": [
    "linreg.coef_"
   ]
  },
  {
   "cell_type": "code",
   "execution_count": 14,
   "id": "c9a6e516-d914-4c48-854e-49edb8b6b319",
   "metadata": {},
   "outputs": [
    {
     "data": {
      "text/plain": [
       "8.958520748604407"
      ]
     },
     "execution_count": 14,
     "metadata": {},
     "output_type": "execute_result"
    }
   ],
   "source": [
    "linreg.intercept_"
   ]
  },
  {
   "cell_type": "code",
   "execution_count": 15,
   "id": "8ebeb5f0-e75e-42f9-95b4-56935031fad5",
   "metadata": {},
   "outputs": [],
   "source": [
    "y_pred = linreg.predict(X_test)"
   ]
  },
  {
   "cell_type": "code",
   "execution_count": 16,
   "id": "88221836-6d85-475b-a729-90402442294f",
   "metadata": {},
   "outputs": [
    {
     "name": "stdout",
     "output_type": "stream",
     "text": [
      "MAE - Error Medio Absoluto 0.5505315372256793\n",
      "MSE - Error Cuadratico Medio 0.5759304273610153\n",
      "RMSE - Raiz Error Cuadratico Medio 0.7589008020558519\n",
      "R2 - Coeficiente de Determinacion 0.25561677428951035\n"
     ]
    }
   ],
   "source": [
    "print('MAE - Error Medio Absoluto', metrics.mean_absolute_error(y_test, y_pred))\n",
    "print('MSE - Error Cuadratico Medio', metrics.mean_squared_error(y_test, y_pred))\n",
    "print('RMSE - Raiz Error Cuadratico Medio', np.sqrt(metrics.mean_squared_error(y_test, y_pred)))\n",
    "print('R2 - Coeficiente de Determinacion', metrics.r2_score(y_test, y_pred))"
   ]
  },
  {
   "cell_type": "markdown",
   "id": "664b38eb-0446-4656-941f-01450bbcf13b",
   "metadata": {},
   "source": [
    "### Intentamos otros modelos"
   ]
  },
  {
   "cell_type": "code",
   "execution_count": 17,
   "id": "ec16ac18-fa8f-44cc-862f-be4e6556dfec",
   "metadata": {},
   "outputs": [],
   "source": [
    "from sklearn.linear_model import Ridge, Lasso\n",
    "from sklearn.linear_model import SGDRegressor\n",
    "from sklearn.neighbors import KNeighborsRegressor\n",
    "from sklearn.ensemble import GradientBoostingRegressor\n",
    "from sklearn.svm import SVR"
   ]
  },
  {
   "cell_type": "code",
   "execution_count": 18,
   "id": "bc2bbee5-f717-4808-bdbc-35a80cb537d1",
   "metadata": {},
   "outputs": [],
   "source": [
    "models={\n",
    "    'linreg': LinReg(),\n",
    "    'ridge': Ridge(),\n",
    "    'lasso': Lasso(),\n",
    "    'sgd': SGDRegressor(),\n",
    "    'knn': KNeighborsRegressor(),\n",
    "    'grad': GradientBoostingRegressor(),\n",
    "}"
   ]
  },
  {
   "cell_type": "code",
   "execution_count": 19,
   "id": "e40ec624-04b8-410e-a253-ff75ef5c301f",
   "metadata": {},
   "outputs": [
    {
     "name": "stdout",
     "output_type": "stream",
     "text": [
      "ENTRENANDO:  linreg\n",
      "ENTRENANDO:  ridge\n",
      "ENTRENANDO:  lasso\n",
      "ENTRENANDO:  sgd\n",
      "ENTRENANDO:  knn\n",
      "ENTRENANDO:  grad\n"
     ]
    }
   ],
   "source": [
    "for name, model in models.items():\n",
    "    print(\"ENTRENANDO: \", name)\n",
    "    model.fit(X_train, y_train)"
   ]
  },
  {
   "cell_type": "code",
   "execution_count": 20,
   "id": "e14c95f8-dbc4-4ea7-9bd1-77b379f9e196",
   "metadata": {},
   "outputs": [
    {
     "name": "stdout",
     "output_type": "stream",
     "text": [
      "------linreg------\n",
      "MAE -  0.5505315372256793\n",
      "MSE -  0.5759304273610153\n",
      "RMSE -  0.7589008020558519\n",
      "R2 -  0.25561677428951035\n",
      "------ridge------\n",
      "MAE -  0.5401928172430882\n",
      "MSE -  0.5737699245678379\n",
      "RMSE -  0.7574760224375673\n",
      "R2 -  0.2584091984469056\n",
      "------lasso------\n",
      "MAE -  0.6097643112013893\n",
      "MSE -  0.7145463782080519\n",
      "RMSE -  0.8453084515181732\n",
      "R2 -  0.07645730688779151\n",
      "------sgd------\n",
      "MAE -  866893917791.8882\n",
      "MSE -  9.470786932822281e+23\n",
      "RMSE -  973179681909.8866\n",
      "R2 -  -1.2240879439856125e+24\n",
      "------knn------\n",
      "MAE -  0.4407692307692308\n",
      "MSE -  0.29202564102564116\n",
      "RMSE -  0.540393968346836\n",
      "R2 -  0.62256033310673\n",
      "------grad------\n",
      "MAE -  0.3831278288744068\n",
      "MSE -  0.2959447775634445\n",
      "RMSE -  0.5440080675536388\n",
      "R2 -  0.617494895756289\n"
     ]
    }
   ],
   "source": [
    "for name, model in models.items():\n",
    "    y_pred = model.predict(X_test)\n",
    "    print(f\"------{name}------\")\n",
    "    print('MAE - ', metrics.mean_absolute_error(y_test, y_pred))\n",
    "    print('MSE - ', metrics.mean_squared_error(y_test, y_pred))\n",
    "    print('RMSE - ', np.sqrt(metrics.mean_squared_error(y_test, y_pred)))\n",
    "    print('R2 - ', metrics.r2_score(y_test, y_pred))"
   ]
  },
  {
   "cell_type": "markdown",
   "id": "c7ea3805-b646-4a08-9e21-afac17f9487a",
   "metadata": {},
   "source": [
    "### Como conclusión no parece viable predecir con precisión el consumo de manera general. Veamos con los datos segun longitud de trayecto."
   ]
  },
  {
   "cell_type": "code",
   "execution_count": 21,
   "id": "db87a804-bb9b-4225-99b3-2d681a5fd1dd",
   "metadata": {},
   "outputs": [],
   "source": [
    "cd = pd.read_csv(\"cd_limpios.csv\")\n",
    "md = pd.read_csv(\"md_limpios.csv\")\n",
    "ld = pd.read_csv(\"ld_limpios.csv\")"
   ]
  },
  {
   "cell_type": "code",
   "execution_count": null,
   "id": "f585078b-1ffc-490d-a135-120a305da7a3",
   "metadata": {},
   "outputs": [],
   "source": []
  },
  {
   "cell_type": "code",
   "execution_count": 22,
   "id": "918e1e6d-5678-48d5-93df-e8a851309806",
   "metadata": {
    "tags": []
   },
   "outputs": [],
   "source": [
    "cd['gas_num'] = cd.gas_type.map(dicc_gas)\n",
    "md['gas_num'] = md.gas_type.map(dicc_gas)\n",
    "ld['gas_num'] = ld.gas_type.map(dicc_gas)"
   ]
  },
  {
   "cell_type": "markdown",
   "id": "da45162a-7b0e-4d72-85d7-75481239f925",
   "metadata": {},
   "source": [
    "# cd\n",
    "### Dividimos el data set en test y train y variable objetivo __CONSUMO__\n"
   ]
  },
  {
   "cell_type": "code",
   "execution_count": 23,
   "id": "48fb3629-ed24-47e9-ab79-03477040a3df",
   "metadata": {},
   "outputs": [],
   "source": [
    "X = cd.drop([\"consume\",\"gas_type\",\"refill gas\"], axis=1)"
   ]
  },
  {
   "cell_type": "code",
   "execution_count": 24,
   "id": "f8019d82-ccc2-478b-81a4-0f3782357961",
   "metadata": {},
   "outputs": [
    {
     "data": {
      "text/html": [
       "<div>\n",
       "<style scoped>\n",
       "    .dataframe tbody tr th:only-of-type {\n",
       "        vertical-align: middle;\n",
       "    }\n",
       "\n",
       "    .dataframe tbody tr th {\n",
       "        vertical-align: top;\n",
       "    }\n",
       "\n",
       "    .dataframe thead th {\n",
       "        text-align: right;\n",
       "    }\n",
       "</style>\n",
       "<table border=\"1\" class=\"dataframe\">\n",
       "  <thead>\n",
       "    <tr style=\"text-align: right;\">\n",
       "      <th></th>\n",
       "      <th>distance</th>\n",
       "      <th>speed</th>\n",
       "      <th>temp_inside</th>\n",
       "      <th>temp_outside</th>\n",
       "      <th>AC</th>\n",
       "      <th>rain</th>\n",
       "      <th>sun</th>\n",
       "      <th>refill liters</th>\n",
       "      <th>snow</th>\n",
       "      <th>time</th>\n",
       "      <th>lkm</th>\n",
       "      <th>gas_num</th>\n",
       "    </tr>\n",
       "  </thead>\n",
       "  <tbody>\n",
       "    <tr>\n",
       "      <th>0</th>\n",
       "      <td>28.0</td>\n",
       "      <td>26</td>\n",
       "      <td>21.5</td>\n",
       "      <td>12</td>\n",
       "      <td>0</td>\n",
       "      <td>0</td>\n",
       "      <td>0</td>\n",
       "      <td>45.0</td>\n",
       "      <td>0</td>\n",
       "      <td>1.076923</td>\n",
       "      <td>17.86</td>\n",
       "      <td>1</td>\n",
       "    </tr>\n",
       "    <tr>\n",
       "      <th>1</th>\n",
       "      <td>12.0</td>\n",
       "      <td>30</td>\n",
       "      <td>21.5</td>\n",
       "      <td>13</td>\n",
       "      <td>0</td>\n",
       "      <td>0</td>\n",
       "      <td>0</td>\n",
       "      <td>0.0</td>\n",
       "      <td>0</td>\n",
       "      <td>0.400000</td>\n",
       "      <td>35.00</td>\n",
       "      <td>1</td>\n",
       "    </tr>\n",
       "    <tr>\n",
       "      <th>2</th>\n",
       "      <td>11.2</td>\n",
       "      <td>38</td>\n",
       "      <td>21.5</td>\n",
       "      <td>15</td>\n",
       "      <td>0</td>\n",
       "      <td>0</td>\n",
       "      <td>0</td>\n",
       "      <td>0.0</td>\n",
       "      <td>0</td>\n",
       "      <td>0.294737</td>\n",
       "      <td>49.11</td>\n",
       "      <td>1</td>\n",
       "    </tr>\n",
       "    <tr>\n",
       "      <th>3</th>\n",
       "      <td>12.9</td>\n",
       "      <td>36</td>\n",
       "      <td>21.5</td>\n",
       "      <td>14</td>\n",
       "      <td>0</td>\n",
       "      <td>0</td>\n",
       "      <td>0</td>\n",
       "      <td>0.0</td>\n",
       "      <td>0</td>\n",
       "      <td>0.358333</td>\n",
       "      <td>30.23</td>\n",
       "      <td>1</td>\n",
       "    </tr>\n",
       "    <tr>\n",
       "      <th>4</th>\n",
       "      <td>18.5</td>\n",
       "      <td>46</td>\n",
       "      <td>21.5</td>\n",
       "      <td>15</td>\n",
       "      <td>0</td>\n",
       "      <td>0</td>\n",
       "      <td>0</td>\n",
       "      <td>0.0</td>\n",
       "      <td>0</td>\n",
       "      <td>0.402174</td>\n",
       "      <td>24.32</td>\n",
       "      <td>1</td>\n",
       "    </tr>\n",
       "  </tbody>\n",
       "</table>\n",
       "</div>"
      ],
      "text/plain": [
       "   distance  speed  temp_inside  temp_outside  AC  rain  sun  refill liters  \\\n",
       "0      28.0     26         21.5            12   0     0    0           45.0   \n",
       "1      12.0     30         21.5            13   0     0    0            0.0   \n",
       "2      11.2     38         21.5            15   0     0    0            0.0   \n",
       "3      12.9     36         21.5            14   0     0    0            0.0   \n",
       "4      18.5     46         21.5            15   0     0    0            0.0   \n",
       "\n",
       "   snow      time    lkm  gas_num  \n",
       "0     0  1.076923  17.86        1  \n",
       "1     0  0.400000  35.00        1  \n",
       "2     0  0.294737  49.11        1  \n",
       "3     0  0.358333  30.23        1  \n",
       "4     0  0.402174  24.32        1  "
      ]
     },
     "execution_count": 24,
     "metadata": {},
     "output_type": "execute_result"
    }
   ],
   "source": [
    "X.head()"
   ]
  },
  {
   "cell_type": "code",
   "execution_count": 25,
   "id": "3b90de63-3d1b-4409-beb3-04d3177994f3",
   "metadata": {},
   "outputs": [],
   "source": [
    "y = cd.consume"
   ]
  },
  {
   "cell_type": "code",
   "execution_count": 26,
   "id": "72004519-45b7-4e9d-8166-452c270fcd35",
   "metadata": {},
   "outputs": [
    {
     "data": {
      "text/plain": [
       "0    5.0\n",
       "1    4.2\n",
       "2    5.5\n",
       "3    3.9\n",
       "4    4.5\n",
       "Name: consume, dtype: float64"
      ]
     },
     "execution_count": 26,
     "metadata": {},
     "output_type": "execute_result"
    }
   ],
   "source": [
    "y.head()"
   ]
  },
  {
   "cell_type": "code",
   "execution_count": 27,
   "id": "61939e7e-586f-4c17-b8bc-7d445f52e408",
   "metadata": {},
   "outputs": [],
   "source": [
    "X_train, X_test, y_train, y_test = tts(X,y, test_size=0.2)"
   ]
  },
  {
   "cell_type": "code",
   "execution_count": 28,
   "id": "5b26b0fe-7b45-4369-bf25-41606849cfbf",
   "metadata": {},
   "outputs": [],
   "source": [
    "models={\n",
    "    'linreg': LinReg(),\n",
    "    'ridge': Ridge(),\n",
    "    'lasso': Lasso(),\n",
    "    'sgd': SGDRegressor(),\n",
    "    'knn': KNeighborsRegressor(),\n",
    "    'grad': GradientBoostingRegressor(),\n",
    "}"
   ]
  },
  {
   "cell_type": "code",
   "execution_count": 29,
   "id": "ef47d358-8c3a-4337-a51e-214d762191f2",
   "metadata": {},
   "outputs": [
    {
     "name": "stdout",
     "output_type": "stream",
     "text": [
      "ENTRENANDO:  linreg\n",
      "ENTRENANDO:  ridge\n",
      "ENTRENANDO:  lasso\n",
      "ENTRENANDO:  sgd\n",
      "ENTRENANDO:  knn\n",
      "ENTRENANDO:  grad\n"
     ]
    }
   ],
   "source": [
    "for name, model in models.items():\n",
    "    print(\"ENTRENANDO: \", name)\n",
    "    model.fit(X_train, y_train)"
   ]
  },
  {
   "cell_type": "code",
   "execution_count": 30,
   "id": "57cb898f-8c02-4172-ba6e-37066fc8fe65",
   "metadata": {},
   "outputs": [
    {
     "name": "stdout",
     "output_type": "stream",
     "text": [
      "------linreg------\n",
      "MAE -  0.3450889330847283\n",
      "MSE -  0.178549460344216\n",
      "RMSE -  0.42255113340779954\n",
      "R2 -  0.6390928747329445\n",
      "------ridge------\n",
      "MAE -  0.3473138578891215\n",
      "MSE -  0.16797817358166683\n",
      "RMSE -  0.4098514042694826\n",
      "R2 -  0.6604609186827277\n",
      "------lasso------\n",
      "MAE -  0.49865934479644686\n",
      "MSE -  0.35880341735807175\n",
      "RMSE -  0.599002017824708\n",
      "R2 -  0.27474040165088576\n",
      "------sgd------\n",
      "MAE -  2862246527931.198\n",
      "MSE -  9.067496493611171e+24\n",
      "RMSE -  3011228402763.758\n",
      "R2 -  -1.8328389716605072e+25\n",
      "------knn------\n",
      "MAE -  0.31781250000000005\n",
      "MSE -  0.21581875000000003\n",
      "RMSE -  0.4645629666686746\n",
      "R2 -  0.5637593947858013\n",
      "------grad------\n",
      "MAE -  0.1854290837087971\n",
      "MSE -  0.09274215322941531\n",
      "RMSE -  0.30453596377015196\n",
      "R2 -  0.8125376360781068\n"
     ]
    }
   ],
   "source": [
    "for name, model in models.items():\n",
    "    y_pred = model.predict(X_test)\n",
    "    print(f\"------{name}------\")\n",
    "    print('MAE - ', metrics.mean_absolute_error(y_test, y_pred))\n",
    "    print('MSE - ', metrics.mean_squared_error(y_test, y_pred))\n",
    "    print('RMSE - ', np.sqrt(metrics.mean_squared_error(y_test, y_pred)))\n",
    "    print('R2 - ', metrics.r2_score(y_test, y_pred))"
   ]
  }
 ],
 "metadata": {
  "kernelspec": {
   "display_name": "minimal_ds",
   "language": "python",
   "name": "minimal_ds"
  },
  "language_info": {
   "codemirror_mode": {
    "name": "ipython",
    "version": 3
   },
   "file_extension": ".py",
   "mimetype": "text/x-python",
   "name": "python",
   "nbconvert_exporter": "python",
   "pygments_lexer": "ipython3",
   "version": "3.10.0"
  }
 },
 "nbformat": 4,
 "nbformat_minor": 5
}
